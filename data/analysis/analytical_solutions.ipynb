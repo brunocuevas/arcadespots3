{
 "cells": [
  {
   "cell_type": "markdown",
   "metadata": {},
   "source": [
    "# Obtaining a $R_{0}$ value in the agent based model"
   ]
  },
  {
   "cell_type": "markdown",
   "metadata": {},
   "source": [
    "The basis of the calculations I have performed is that a single individual that is placed in a completly susceptible population can interact with all its neighbours without restrictions using an exponential kernel as exposition increment. However, this exponential kernel does not grow over the density of infected individuals, since the exposition is at most equal to the density.\n",
    "\n",
    "Considering density uniform density of individuals across the landscape, we can consider the integral equation:\n",
    "\n",
    "$$ R_{0} = \\int_{0}^{\\infty} \\int_{0}^{2\\pi} F \\left( \\int_{0}^{T} r \\beta e^{-kr} \\rho dt \\right) d\\theta dr $$\n",
    "\n",
    "\n",
    "Where F is a function that takes all values over density in $(r,\\theta)$ as $\\rho$. Splitting the integration domain in an interval $0,r_{0}$ where the exposition would be larger than the density and another interval $r_{0}, \\inf$ where the exposition would be shorter than the the integral, we obtain two integrals with known primitives.\n",
    "\n",
    "$$ r_{0} = \\frac{1}{k}\\log(\\beta T)$$\n",
    "\n",
    "\n",
    "$$ R_{0} = \\rho r_{0}^{2} \\pi + \\frac{2\\pi\\beta\\rho}{k^{2}}e^{-kr_{0}}(kr_{0} + 1)$$\n",
    "\n",
    "\n",
    "Since T is an stochastic variable in the model, to obtain the average $R_{0}$ value we must calculate the first moment as:\n",
    "\n",
    "$$ < R_{0} > = \\int_{0}^{\\infty}R_{0}f(T)dT $$\n",
    "\n",
    "where\n",
    "\n",
    "$$ f(T) = \\exp(\\mu + \\sigma Z) = \\exp\\left(\\mu + \\frac{\\sigma}{\\sqrt{2\\pi}}e^{\\frac{-x^2}{2}}\\right)$$\n",
    "\n",
    "\n",
    "Since this expresion has no known integral, we will perform a numeric integral for all three pathotypes\n",
    "\n"
   ]
  },
  {
   "cell_type": "code",
   "execution_count": 1,
   "metadata": {
    "collapsed": true
   },
   "outputs": [],
   "source": [
    "import numpy as np\n",
    "import matplotlib.pyplot as plt\n",
    "import seaborn as sns\n",
    "import scipy.integrate as integrate\n",
    "import pandas as pd\n",
    "import seaborn as sns\n",
    "sns.set_style('white')\n",
    "sns.set_palette('Set2')"
   ]
  },
  {
   "cell_type": "code",
   "execution_count": 2,
   "metadata": {
    "collapsed": true
   },
   "outputs": [],
   "source": [
    "mu = dict(P0=3.46, P12 = 4.19, P123=3.74)\n",
    "sigma = 0.32\n",
    "beta = dict(P0 = 1.0, P12 = 0.49, P123 = 0.25)\n",
    "rho = 2\n",
    "k = 1.25\n",
    "\n"
   ]
  },
  {
   "cell_type": "code",
   "execution_count": 12,
   "metadata": {
    "collapsed": true
   },
   "outputs": [],
   "source": [
    "def R0(T, i):\n",
    "    term1 = 2*np.pi*beta[i]*rho*T/k\n",
    "    term2 = 2*np.pi*rho/k\n",
    "    return (term1 * np.exp(-np.log(beta[i]*T))) + (term2 * np.log(beta[i]*T))\n",
    "    "
   ]
  },
  {
   "cell_type": "code",
   "execution_count": 3,
   "metadata": {
    "collapsed": true
   },
   "outputs": [],
   "source": [
    "def R0(T, i ):\n",
    "    r0 = (1/k) * (np.log(beta[i] * T))\n",
    "    if r0 < 0 : \n",
    "        r0 = 0\n",
    "    term1 = rho * np.pi * (r0 ** 2)\n",
    "    term2 = 2*np.pi*beta[i]*rho*(k**-2)*np.exp(-k*r0)*((k*r0)+1)\n",
    "    return (term1 + term2)"
   ]
  },
  {
   "cell_type": "code",
   "execution_count": 4,
   "metadata": {
    "collapsed": true
   },
   "outputs": [],
   "source": [
    "def lognormal(T,i):\n",
    "    logT = - ((np.log(T) - mu[i])**2)/(2*(sigma**2))\n",
    "    return 1/(T*sigma*np.sqrt(2*np.pi)) * np.exp(logT)\n",
    "\n",
    "    "
   ]
  },
  {
   "cell_type": "code",
   "execution_count": 30,
   "metadata": {
    "collapsed": true
   },
   "outputs": [],
   "source": [
    "r0_dict = dict(\n",
    "    P0 = integrate.quad(lambda x: R0(x, 'P0')*lognormal(x, 'P0'), 0, np.inf)[0],\n",
    "    P12 = integrate.quad(lambda x: R0(x, 'P12')*lognormal(x, 'P12'), 0, np.inf)[0],\n",
    "    P123 = integrate.quad(lambda x: R0(x, 'P123')*lognormal(x, 'P123'), 0, np.inf)[0]\n",
    ")\n",
    "\n"
   ]
  },
  {
   "cell_type": "code",
   "execution_count": 31,
   "metadata": {},
   "outputs": [
    {
     "data": {
      "text/plain": [
       "{'P0': 49.71178375818006, 'P12': 49.57770723471813, 'P123': 23.342921842222637}"
      ]
     },
     "execution_count": 31,
     "metadata": {},
     "output_type": "execute_result"
    }
   ],
   "source": [
    "r0_dict"
   ]
  },
  {
   "cell_type": "code",
   "execution_count": 98,
   "metadata": {
    "collapsed": true
   },
   "outputs": [],
   "source": [
    "r0_2_dict = dict(\n",
    "    P0 = integrate.quad(lambda x: (R0(x, 'P0')**2)*lognormal(x, 'P0'), 0, np.inf)[0],\n",
    "    P12 = integrate.quad(lambda x: (R0(x, 'P12')**2)*lognormal(x, 'P12'), 0, np.inf)[0],\n",
    "    P123 = integrate.quad(lambda x: (R0(x, 'P123')**2)*lognormal(x, 'P123'), 0, np.inf)[0]\n",
    ")"
   ]
  },
  {
   "cell_type": "code",
   "execution_count": 99,
   "metadata": {},
   "outputs": [
    {
     "data": {
      "text/plain": [
       "{'P0': 2545.938840013348, 'P12': 2535.913558055799, 'P123': 580.2117382385393}"
      ]
     },
     "execution_count": 99,
     "metadata": {},
     "output_type": "execute_result"
    }
   ],
   "source": [
    "r0_2_dict"
   ]
  },
  {
   "cell_type": "code",
   "execution_count": 101,
   "metadata": {},
   "outputs": [
    {
     "data": {
      "text/plain": [
       "{'P0': 8.6416083915723192,\n",
       " 'P12': 8.8297510386406994,\n",
       " 'P123': 5.9430411496492823}"
      ]
     },
     "execution_count": 101,
     "metadata": {},
     "output_type": "execute_result"
    }
   ],
   "source": [
    "variance = dict()\n",
    "for i in r0_dict.keys():\n",
    "    variance[i] = np.sqrt(r0_2_dict[i] - (r0_dict[i]**2))\n",
    "variance"
   ]
  },
  {
   "cell_type": "code",
   "execution_count": 35,
   "metadata": {
    "collapsed": true
   },
   "outputs": [],
   "source": [
    "T_mean = dict(\n",
    "    P0 = integrate.quad(lambda x: x*lognormal(x, 'P0'), 0, np.inf)[0],\n",
    "    P12 = integrate.quad(lambda x: x*lognormal(x, 'P12'), 0, np.inf)[0],\n",
    "    P123 = integrate.quad(lambda x: x*lognormal(x, 'P123'), 0, np.inf)[0]\n",
    ")"
   ]
  },
  {
   "cell_type": "code",
   "execution_count": 36,
   "metadata": {},
   "outputs": [
    {
     "data": {
      "text/plain": [
       "{'P0': 33.48842979767444, 'P12': 69.4911912546105, 'P123': 44.309539833672325}"
      ]
     },
     "execution_count": 36,
     "metadata": {},
     "output_type": "execute_result"
    }
   ],
   "source": [
    "T_mean"
   ]
  },
  {
   "cell_type": "code",
   "execution_count": 19,
   "metadata": {
    "collapsed": true
   },
   "outputs": [],
   "source": [
    "def R0_eff(T, i):\n",
    "    term1 = 0\n",
    "    term2 = 2*np.pi*rho/k\n",
    "    return (term1 * np.exp(-np.log(beta[i]*T))) + (term2 * np.log(beta[i]*T))"
   ]
  },
  {
   "cell_type": "code",
   "execution_count": 94,
   "metadata": {
    "collapsed": true
   },
   "outputs": [],
   "source": [
    "def R0_eff(T, i ):\n",
    "    r0 = (1/k) * np.log(beta[i] * T)\n",
    "    return np.pi * rho * (r0 ** 2)"
   ]
  },
  {
   "cell_type": "code",
   "execution_count": 95,
   "metadata": {
    "collapsed": true
   },
   "outputs": [],
   "source": [
    "r0_eff_dict = dict(\n",
    "    P0 = integrate.quad(lambda x: R0_eff(x, 'P0')*lognormal(x, 'P0'), 0, np.inf)[0],\n",
    "    P12 = integrate.quad(lambda x: R0_eff(x, 'P12')*lognormal(x, 'P12'), 0, np.inf)[0],\n",
    "    P123 = integrate.quad(lambda x: R0_eff(x, 'P123')*lognormal(x, 'P123'), 0, np.inf)[0]\n",
    ")"
   ]
  },
  {
   "cell_type": "code",
   "execution_count": 96,
   "metadata": {},
   "outputs": [
    {
     "data": {
      "text/plain": [
       "{'P0': 48.55243481528726,\n",
       " 'P12': 49.016871796771206,\n",
       " 'P123': 22.689156113689926}"
      ]
     },
     "execution_count": 96,
     "metadata": {},
     "output_type": "execute_result"
    }
   ],
   "source": [
    "r0_eff_dict"
   ]
  },
  {
   "cell_type": "code",
   "execution_count": 102,
   "metadata": {},
   "outputs": [
    {
     "data": {
      "text/plain": [
       "{'P0': 8.9236520432266655,\n",
       " 'P12': 8.9664117476962382,\n",
       " 'P123': 6.0854068712921991}"
      ]
     },
     "execution_count": 102,
     "metadata": {},
     "output_type": "execute_result"
    }
   ],
   "source": [
    "r0_2_eff_dict = dict(\n",
    "    P0 = integrate.quad(lambda x: (R0_eff(x, 'P0')**2)*lognormal(x, 'P0'), 0, np.inf)[0],\n",
    "    P12 = integrate.quad(lambda x: (R0_eff(x, 'P12')**2)*lognormal(x, 'P12'), 0, np.inf)[0],\n",
    "    P123 = integrate.quad(lambda x: (R0_eff(x, 'P123')**2)*lognormal(x, 'P123'), 0, np.inf)[0]\n",
    ")\n",
    "variance = dict()\n",
    "for i in r0_dict.keys():\n",
    "    variance[i] = np.sqrt(r0_2_eff_dict[i] - (r0_eff_dict[i]**2))\n",
    "variance"
   ]
  },
  {
   "cell_type": "code",
   "execution_count": 23,
   "metadata": {
    "collapsed": true
   },
   "outputs": [],
   "source": [
    "def infected_radius(T, i):\n",
    "    return (1/k)*np.log(beta[i]*T)\n"
   ]
  },
  {
   "cell_type": "code",
   "execution_count": 25,
   "metadata": {},
   "outputs": [
    {
     "name": "stderr",
     "output_type": "stream",
     "text": [
      "C:\\Users\\Bruno\\Anaconda3\\lib\\site-packages\\ipykernel_launcher.py:2: RuntimeWarning: divide by zero encountered in log\n",
      "  \n",
      "C:\\Users\\Bruno\\Anaconda3\\lib\\site-packages\\ipykernel_launcher.py:3: RuntimeWarning: divide by zero encountered in double_scalars\n",
      "  This is separate from the ipykernel package so we can avoid doing imports until\n",
      "C:\\Users\\Bruno\\Anaconda3\\lib\\site-packages\\ipykernel_launcher.py:3: RuntimeWarning: invalid value encountered in double_scalars\n",
      "  This is separate from the ipykernel package so we can avoid doing imports until\n"
     ]
    },
    {
     "data": {
      "image/png": "[encoded data removed]",
      "text/plain": [
       "<matplotlib.figure.Figure at 0x222c7824198>"
      ]
     },
     "metadata": {},
     "output_type": "display_data"
    }
   ],
   "source": [
    "pdf_lognormal = np.zeros(100)\n",
    "radius = np.zeros(100)\n",
    "TT = np.arange(0, 100)\n",
    "for i in range(TT.size):\n",
    "    pdf_lognormal[i] = lognormal(TT[i], 'P0')\n",
    "    radius[i] = infected_radius(TT[i], 'P0')\n",
    "plt.plot(TT, pdf_lognormal)\n",
    "plt.plot(TT, radius)\n",
    "plt.show()"
   ]
  },
  {
   "cell_type": "code",
   "execution_count": 26,
   "metadata": {
    "collapsed": true
   },
   "outputs": [],
   "source": [
    "radius_dict = dict(\n",
    "    P0 = integrate.quad(lambda x: infected_radius(x, 'P0')*lognormal(x, 'P0'), 0, np.inf)[0],\n",
    "    P12 = integrate.quad(lambda x: infected_radius(x, 'P12')*lognormal(x, 'P12'), 0, np.inf)[0],\n",
    "    P123 = integrate.quad(lambda x: infected_radius(x, 'P123')*lognormal(x, 'P123'), 0, np.inf)[0]\n",
    ")"
   ]
  },
  {
   "cell_type": "code",
   "execution_count": 27,
   "metadata": {},
   "outputs": [
    {
     "data": {
      "text/plain": [
       "{'P0': 2.7680000000000007, 'P12': 2.781320089698029, 'P123': 1.882964511104086}"
      ]
     },
     "execution_count": 27,
     "metadata": {},
     "output_type": "execute_result"
    }
   ],
   "source": [
    "radius_dict"
   ]
  },
  {
   "cell_type": "code",
   "execution_count": 37,
   "metadata": {},
   "outputs": [
    {
     "data": {
      "text/plain": [
       "49.26017280828795"
      ]
     },
     "execution_count": 37,
     "metadata": {},
     "output_type": "execute_result"
    }
   ],
   "source": [
    "(2.8**2) * np.pi * 2"
   ]
  },
  {
   "cell_type": "code",
   "execution_count": 5,
   "metadata": {
    "collapsed": true
   },
   "outputs": [],
   "source": [
    "def exponential_times(T, i):\n",
    "    chi = lamb * np.exp(phi[i])\n",
    "    return chi*np.exp(-chi*T)"
   ]
  },
  {
   "cell_type": "code",
   "execution_count": 20,
   "metadata": {
    "collapsed": true
   },
   "outputs": [],
   "source": [
    "phi = dict(P0 = 1.629, P12 = 0.628, P123 = 1.229)\n",
    "lamb_list = 10 ** np.arange(-2, 0.2, 0.2)\n",
    "surv_data = dict(\n",
    "    P0 = [], \n",
    "    P12 = [], \n",
    "    P123 = []\n",
    ")\n",
    "for lamb in lamb_list : \n",
    "    for patho in phi.keys():\n",
    "        ff = integrate.quad(lambda x: R0(x, patho)*exponential_times(x, patho), 0, np.inf)[0]\n",
    "        surv_data[patho].append(ff)\n"
   ]
  },
  {
   "cell_type": "code",
   "execution_count": 21,
   "metadata": {
    "collapsed": true
   },
   "outputs": [],
   "source": [
    "surv_data = pd.DataFrame.from_dict(surv_data)"
   ]
  },
  {
   "cell_type": "code",
   "execution_count": 22,
   "metadata": {},
   "outputs": [
    {
     "data": {
      "text/html": [
       "<div>\n",
       "<style>\n",
       "    .dataframe thead tr:only-child th {\n",
       "        text-align: right;\n",
       "    }\n",
       "\n",
       "    .dataframe thead th {\n",
       "        text-align: left;\n",
       "    }\n",
       "\n",
       "    .dataframe tbody tr th {\n",
       "        vertical-align: top;\n",
       "    }\n",
       "</style>\n",
       "<table border=\"1\" class=\"dataframe\">\n",
       "  <thead>\n",
       "    <tr style=\"text-align: right;\">\n",
       "      <th></th>\n",
       "      <th>P0</th>\n",
       "      <th>P12</th>\n",
       "      <th>P123</th>\n",
       "    </tr>\n",
       "  </thead>\n",
       "  <tbody>\n",
       "    <tr>\n",
       "      <th>0</th>\n",
       "      <td>32.249982</td>\n",
       "      <td>36.553796</td>\n",
       "      <td>14.703356</td>\n",
       "    </tr>\n",
       "    <tr>\n",
       "      <th>1</th>\n",
       "      <td>24.720427</td>\n",
       "      <td>27.609601</td>\n",
       "      <td>9.923229</td>\n",
       "    </tr>\n",
       "    <tr>\n",
       "      <th>2</th>\n",
       "      <td>18.843409</td>\n",
       "      <td>20.316670</td>\n",
       "      <td>6.503498</td>\n",
       "    </tr>\n",
       "    <tr>\n",
       "      <th>3</th>\n",
       "      <td>14.502878</td>\n",
       "      <td>14.604097</td>\n",
       "      <td>4.260697</td>\n",
       "    </tr>\n",
       "    <tr>\n",
       "      <th>4</th>\n",
       "      <td>11.525707</td>\n",
       "      <td>10.361358</td>\n",
       "      <td>2.958610</td>\n",
       "    </tr>\n",
       "    <tr>\n",
       "      <th>5</th>\n",
       "      <td>9.678471</td>\n",
       "      <td>7.428250</td>\n",
       "      <td>2.323578</td>\n",
       "    </tr>\n",
       "    <tr>\n",
       "      <th>6</th>\n",
       "      <td>8.679783</td>\n",
       "      <td>5.590135</td>\n",
       "      <td>2.083218</td>\n",
       "    </tr>\n",
       "    <tr>\n",
       "      <th>7</th>\n",
       "      <td>8.234101</td>\n",
       "      <td>4.585569</td>\n",
       "      <td>2.020604</td>\n",
       "    </tr>\n",
       "    <tr>\n",
       "      <th>8</th>\n",
       "      <td>8.082412</td>\n",
       "      <td>4.133509</td>\n",
       "      <td>2.011242</td>\n",
       "    </tr>\n",
       "    <tr>\n",
       "      <th>9</th>\n",
       "      <td>8.047373</td>\n",
       "      <td>3.979870</td>\n",
       "      <td>2.010631</td>\n",
       "    </tr>\n",
       "    <tr>\n",
       "      <th>10</th>\n",
       "      <td>8.042751</td>\n",
       "      <td>3.945265</td>\n",
       "      <td>2.010619</td>\n",
       "    </tr>\n",
       "  </tbody>\n",
       "</table>\n",
       "</div>"
      ],
      "text/plain": [
       "           P0        P12       P123\n",
       "0   32.249982  36.553796  14.703356\n",
       "1   24.720427  27.609601   9.923229\n",
       "2   18.843409  20.316670   6.503498\n",
       "3   14.502878  14.604097   4.260697\n",
       "4   11.525707  10.361358   2.958610\n",
       "5    9.678471   7.428250   2.323578\n",
       "6    8.679783   5.590135   2.083218\n",
       "7    8.234101   4.585569   2.020604\n",
       "8    8.082412   4.133509   2.011242\n",
       "9    8.047373   3.979870   2.010631\n",
       "10   8.042751   3.945265   2.010619"
      ]
     },
     "execution_count": 22,
     "metadata": {},
     "output_type": "execute_result"
    }
   ],
   "source": [
    "surv_data"
   ]
  },
  {
   "cell_type": "code",
   "execution_count": 29,
   "metadata": {},
   "outputs": [
    {
     "data": {
      "image/png": "[encoded data removed]",
      "text/plain": [
       "<matplotlib.figure.Figure at 0x13eaeef83c8>"
      ]
     },
     "metadata": {},
     "output_type": "display_data"
    }
   ],
   "source": [
    "sns.set_context('paper')\n",
    "sns.set_palette('tab20')\n",
    "fig, ax = plt.subplots(1)\n",
    "#fig.set_size_inches(5,4)\n",
    "marker_dict = dict(P0 = 'o', P12 = 's', P123 = '^')\n",
    "ax.plot(lamb_list, surv_data['P0'], marker= marker_dict['P0'], lw = 2, markersize = 10)\n",
    "ax.plot(lamb_list, surv_data['P12'], marker = marker_dict['P12'], lw = 2, markersize = 10)\n",
    "ax.plot(lamb_list, surv_data['P123'], marker = marker_dict['P123'], lw = 2, markersize = 10)\n",
    "leg = ax.legend(title='Pathotype', fontsize = 'x-large')\n",
    "ax.set_xscale('log')\n",
    "ax.set_xlabel('Efficiency')\n",
    "ax.set_ylabel('$R_{0}$')\n",
    "fig.tight_layout()\n",
    "fig.savefig('C:/Users/Bruno/Dropbox/ARTICULOS/cpv_2016/figures/figure_8.png', dpi=300)\n",
    "plt.show()"
   ]
  },
  {
   "cell_type": "code",
   "execution_count": null,
   "metadata": {
    "collapsed": true
   },
   "outputs": [],
   "source": []
  }
 ],
 "metadata": {
  "anaconda-cloud": {},
  "kernelspec": {
   "display_name": "Python 3",
   "language": "python",
   "name": "python3"
  },
  "language_info": {
   "codemirror_mode": {
    "name": "ipython",
    "version": 3
   },
   "file_extension": ".py",
   "mimetype": "text/x-python",
   "name": "python",
   "nbconvert_exporter": "python",
   "pygments_lexer": "ipython3",
   "version": "3.6.3"
  }
 },
 "nbformat": 4,
 "nbformat_minor": 1
}
